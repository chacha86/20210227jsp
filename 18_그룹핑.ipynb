{
  "nbformat": 4,
  "nbformat_minor": 0,
  "metadata": {
    "colab": {
      "provenance": [],
      "authorship_tag": "ABX9TyPG8KfWb+rRUK7FD9/Ntxf3",
      "include_colab_link": true
    },
    "kernelspec": {
      "name": "python3",
      "display_name": "Python 3"
    },
    "language_info": {
      "name": "python"
    }
  },
  "cells": [
    {
      "cell_type": "markdown",
      "metadata": {
        "id": "view-in-github",
        "colab_type": "text"
      },
      "source": [
        "<a href=\"https://colab.research.google.com/github/chacha86/20210227jsp/blob/master/18_%EA%B7%B8%EB%A3%B9%ED%95%91.ipynb\" target=\"_parent\"><img src=\"https://colab.research.google.com/assets/colab-badge.svg\" alt=\"Open In Colab\"/></a>"
      ]
    },
    {
      "cell_type": "code",
      "execution_count": null,
      "metadata": {
        "id": "Gf8J9ejDyuWm"
      },
      "outputs": [],
      "source": [
        "# 그룹핑\n",
        "import pandas as pd\n",
        "\n",
        "df = pd.read_excel('/content/거래내역조회.xlsx', skiprows=3)"
      ]
    },
    {
      "cell_type": "code",
      "source": [],
      "metadata": {
        "id": "_kGIOoG9ElKq"
      },
      "execution_count": null,
      "outputs": []
    },
    {
      "cell_type": "code",
      "source": [
        "df['찾으신금액'].sum()\n",
        "\n",
        "# 특정 컬럼을 기준으로 그룹핑\n",
        "# 취급점별 결제합산\n",
        "gb = df.groupby('취급점')\n",
        "\n",
        "for col, grb in gb :\n",
        "  print(col)\n",
        "  print(grb)"
      ],
      "metadata": {
        "id": "hNSQrbJ66kSf"
      },
      "execution_count": null,
      "outputs": []
    },
    {
      "cell_type": "code",
      "source": [
        "# 취급점별(group) 찾으신금액(집계 대상) 합계(연산 종류)\n",
        "df.groupby('취급점').sum()[['찾으신금액', '']]"
      ],
      "metadata": {
        "id": "HUjio4G974cI"
      },
      "execution_count": null,
      "outputs": []
    },
    {
      "cell_type": "code",
      "source": [
        "# 간이 문제. 일별 평균 사용 금액(찾으신 금액)\n",
        "# 거래일시는 시간 때문에 그룹핑을 제대로 할 수 없다. 일별로 그룹핑 하려면 시간을 제거해야한다.\n",
        "df.groupby('거래일시').mean()\n",
        "\n",
        "df['거래일'] = df['거래일시'].str[:10]\n",
        "\n",
        "#pd.unique(df['거래일'])\n",
        "\n",
        "df.groupby('거래일').mean()['찾으신금액']\n",
        "#df.groupby()\n"
      ],
      "metadata": {
        "id": "7EkeuTH-8emJ"
      },
      "execution_count": null,
      "outputs": []
    },
    {
      "cell_type": "code",
      "source": [
        "# 그룹도 소그룹, 중그룹, 대그룹 나누기 가능.\n",
        "df.loc[2, '취급점'] = '행복금융센터'\n",
        "df\n",
        "\n",
        "df.groupby(['거래일', '적요', '취급점']).mean()[['찾으신금액']]"
      ],
      "metadata": {
        "id": "rc5tV24XBV1C"
      },
      "execution_count": null,
      "outputs": []
    }
  ]
}