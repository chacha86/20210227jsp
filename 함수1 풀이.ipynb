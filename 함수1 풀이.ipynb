{
  "nbformat": 4,
  "nbformat_minor": 0,
  "metadata": {
    "colab": {
      "name": "Untitled23.ipynb",
      "provenance": [],
      "authorship_tag": "ABX9TyNzmOC1NWwYD44Nov+ck3g5",
      "include_colab_link": true
    },
    "kernelspec": {
      "name": "python3",
      "display_name": "Python 3"
    },
    "language_info": {
      "name": "python"
    }
  },
  "cells": [
    {
      "cell_type": "markdown",
      "metadata": {
        "id": "view-in-github",
        "colab_type": "text"
      },
      "source": [
        "<a href=\"https://colab.research.google.com/github/chacha86/20210227jsp/blob/master/%ED%95%A8%EC%88%981%20%ED%92%80%EC%9D%B4.ipynb\" target=\"_parent\"><img src=\"https://colab.research.google.com/assets/colab-badge.svg\" alt=\"Open In Colab\"/></a>"
      ]
    },
    {
      "cell_type": "code",
      "execution_count": 1,
      "metadata": {
        "colab": {
          "base_uri": "https://localhost:8080/"
        },
        "id": "9vnoM4eSXiYL",
        "outputId": "d6ad99d9-2eaf-4cb0-8bb9-9a9eeb22b594"
      },
      "outputs": [
        {
          "output_type": "stream",
          "name": "stdout",
          "text": [
            "봉쥬르\n",
            "안녕하세요\n",
            "하이\n",
            "봉쥬르\n",
            "봉쥬르\n",
            "봉쥬르\n",
            "안녕하세요\n",
            "안녕하세요\n",
            "안녕하세요\n",
            "안녕하세요\n",
            "안녕하세요\n",
            "하이\n"
          ]
        }
      ],
      "source": [
        "def hello(lang) :\n",
        "  if lang == 1 :\n",
        "    print('안녕하세요')\n",
        "  elif lang == 2 :\n",
        "    print('하이')\n",
        "  elif lang == 3 :\n",
        "    print('봉쥬르')\n",
        "\n",
        "def hello_v2(lang, count) :\n",
        "  for i in range(count) :\n",
        "    hello(lang)\n",
        "\n",
        "\n",
        "hello(3) # 봉쥬르 출력\n",
        "hello(1) # 안녕하세요 출력\n",
        "hello(2) # 하이 출력\n",
        "\n",
        "hello_v2(3, 3) # 봉쥬르 3번 출력\n",
        "hello_v2(1, 5) # 안녕하세요 5번 출력\n",
        "hello_v2(2, 1) # 하이 1번 출력"
      ]
    }
  ]
}