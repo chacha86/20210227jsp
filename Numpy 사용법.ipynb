{
  "nbformat": 4,
  "nbformat_minor": 0,
  "metadata": {
    "colab": {
      "name": "Untitled25.ipynb",
      "provenance": [],
      "collapsed_sections": [],
      "authorship_tag": "ABX9TyNizqBMfDLMchcX+eSBrhDT",
      "include_colab_link": true
    },
    "kernelspec": {
      "name": "python3",
      "display_name": "Python 3"
    },
    "language_info": {
      "name": "python"
    }
  },
  "cells": [
    {
      "cell_type": "markdown",
      "metadata": {
        "id": "view-in-github",
        "colab_type": "text"
      },
      "source": [
        "<a href=\"https://colab.research.google.com/github/chacha86/20210227jsp/blob/master/Numpy%20%EC%82%AC%EC%9A%A9%EB%B2%95.ipynb\" target=\"_parent\"><img src=\"https://colab.research.google.com/assets/colab-badge.svg\" alt=\"Open In Colab\"/></a>"
      ]
    },
    {
      "cell_type": "code",
      "execution_count": 62,
      "metadata": {
        "colab": {
          "base_uri": "https://localhost:8080/"
        },
        "id": "mm6auBllZcW2",
        "outputId": "62480dc5-b244-4ede-bde1-2bc1ee593c8a"
      },
      "outputs": [
        {
          "output_type": "execute_result",
          "data": {
            "text/plain": [
              "16"
            ]
          },
          "metadata": {},
          "execution_count": 62
        }
      ],
      "source": [
        "import numpy as np\n",
        "\n",
        "li = [1,2,3,4,5]\n",
        "\n",
        "type(li)\n",
        "\n",
        "arr = np.array([1,2,3,4,5])\n",
        "type(arr)\n",
        "\n",
        "li = [7,8,9,10]\n",
        "tupl = (5,6,7,8)\n",
        "arr2 = np.array(li)\n",
        "arr3 = np.array(tupl)\n",
        "\n",
        "arr3\n",
        "\n",
        "# 2차원\n",
        "arr4 = np.array([[1,2,3,4],\n",
        "                 [5,6,7,8]])\n",
        "\n",
        "# 3차원\n",
        "\n",
        "arr5 = np.array([[[1,2,3,4],\n",
        "                 [5,6,7,8]],\n",
        "                [[1,2,3,4],\n",
        "                 [5,6,7,8]] ])\n",
        "\n",
        "\n",
        "arr3.shape\n",
        "\n",
        "arr4.shape\n",
        "\n",
        "arr5.shape\n",
        "\n",
        "arr3.ndim\n",
        "arr4.ndim\n",
        "arr5.ndim\n",
        "\n",
        "arr3.size\n",
        "arr4.size\n",
        "arr5.size"
      ]
    },
    {
      "cell_type": "code",
      "source": [
        "# 인덱싱\n",
        "arr3\n",
        "\n",
        "arr3[0]\n",
        "arr3[1 : 4 : 2]\n",
        "\n",
        "\n",
        "print(arr4)\n",
        "\n",
        "arr4[0, 2]\n",
        "arr4[1, 3]\n",
        "\n",
        "arr5 = np.array([[1,2,3,4],\n",
        "                 [5,6,7,8],\n",
        "                 [9,10,11,12],\n",
        "                 [13,14,15,16]])\n",
        "\n",
        "arr4[:, :2]\n",
        "\n",
        "\n",
        "\n",
        "\n",
        "\n",
        "'''\n",
        "[6,7]\n",
        "[10,11]\n",
        "'''\n",
        "\n",
        "'''\n",
        "[1,3]\n",
        "[5,7]\n",
        "[13,15]\n",
        "'''\n",
        "\n",
        "arr6 = np.array([1,2,3,4,5,6,7,8,9,10])\n",
        "\n",
        "\n",
        "\n",
        "#arr5[0:, 0:3:2]\n",
        "arr6[[2, 5, 9]]\n",
        "\n",
        "arr5[[0,1,3], 0:3:2]\n",
        "\n",
        "arr7 = np.array([[1,2],\n",
        "                 [3,4]])\n",
        "\n",
        "\n",
        "\n",
        "arr8 = np.array([[True, False],\n",
        "                 [False, True]])\n",
        "\n",
        "arr7[arr8]\n",
        "\n",
        "arr8 = np.array([1,2,3,4,5])\n",
        "\n",
        "\n",
        "\n",
        "arr8\n",
        "arr9 = np.array([True, False, True, False, True])\n",
        "\n",
        "arr8[arr9]\n",
        "arr8[arr8 > 3]\n",
        "\n"
      ],
      "metadata": {
        "colab": {
          "base_uri": "https://localhost:8080/"
        },
        "id": "6ZgOiascnGRV",
        "outputId": "8eebce74-423e-4548-d148-ebe1d4da3dd1"
      },
      "execution_count": 94,
      "outputs": [
        {
          "output_type": "stream",
          "name": "stdout",
          "text": [
            "[[1 2 3 4]\n",
            " [5 6 7 8]]\n"
          ]
        },
        {
          "output_type": "execute_result",
          "data": {
            "text/plain": [
              "array([4, 5])"
            ]
          },
          "metadata": {},
          "execution_count": 94
        }
      ]
    },
    {
      "cell_type": "code",
      "source": [
        "# 수열로 1차원 배열 만들기\n",
        "arr = np.arange(10, 21, 2)\n",
        "\n",
        "# 랜덤하게 숫자 뽑아주는것.\n",
        "arr2 = np.random.randint(-10, 10, (2,3,4))\n",
        "\n",
        "# 삼총사\n",
        "arr3 = np.zeros([3, 3,4]) # 영행렬\n",
        "arr4 = np.ones([3,4]) # 1로 채움\n",
        "arr5 = np.full([3,4], 4) # 특정 숫자로 채움\n",
        "\n",
        "arr6 = np.zeros_like(arr2)\n",
        "\n",
        "arr6\n",
        "\n"
      ],
      "metadata": {
        "colab": {
          "base_uri": "https://localhost:8080/"
        },
        "id": "V11R60-tlmtD",
        "outputId": "7a504b83-b65b-40e2-a88e-699fed0a4244"
      },
      "execution_count": 113,
      "outputs": [
        {
          "output_type": "execute_result",
          "data": {
            "text/plain": [
              "array([[[0, 0, 0, 0],\n",
              "        [0, 0, 0, 0],\n",
              "        [0, 0, 0, 0]],\n",
              "\n",
              "       [[0, 0, 0, 0],\n",
              "        [0, 0, 0, 0],\n",
              "        [0, 0, 0, 0]]])"
            ]
          },
          "metadata": {},
          "execution_count": 113
        }
      ]
    },
    {
      "cell_type": "code",
      "source": [
        "# 원소 연산\n",
        "np.random.seed(1)\n",
        "arr1 = np.random.randint(-100, 100, (3,4))\n",
        "\n",
        "print(arr1)\n",
        "\n",
        "np.random.seed(100)\n",
        "arr2 = np.random.randint(-100, 100, (3,4))\n",
        "\n",
        "print(arr2)\n",
        "\n",
        "np.random.seed(5)\n",
        "arr3 = np.random.randint(-10, 10, 5)\n",
        "\n",
        "print(arr3)\n",
        "# 행렬간 연산\n",
        "\n",
        "#최대\n",
        "arr1.max()\n",
        "arr2.max()\n",
        "arr3.max()\n",
        "\n",
        "# 최소\n",
        "arr1.min(axis=0)\n",
        "arr1.min(axis=1)\n",
        "\n",
        "# 합\n",
        "arr1.sum()\n",
        "arr1.sum(axis=0)\n",
        "arr1.sum(axis=1)\n",
        "\n",
        "# 평균\n",
        "arr1.mean()\n",
        "arr1.mean(axis=0)\n",
        "arr1.mean(axis=1)"
      ],
      "metadata": {
        "colab": {
          "base_uri": "https://localhost:8080/"
        },
        "id": "Srh_tm2xscuV",
        "outputId": "142bbafe-640d-43c4-830d-a3e3f21531d7"
      },
      "execution_count": 141,
      "outputs": [
        {
          "output_type": "stream",
          "name": "stdout",
          "text": [
            "[[-63  40 -28  37]\n",
            " [ 33 -21  92  44]\n",
            " [ 29 -29  34 -75]]\n",
            "[[-92 -76 -33   3]\n",
            " [-13 -21  76  38]\n",
            " [ -6  80  -2 -47]]\n",
            "[-7  4  5 -4  6]\n"
          ]
        },
        {
          "output_type": "execute_result",
          "data": {
            "text/plain": [
              "array([ -3.5 ,  37.  , -10.25])"
            ]
          },
          "metadata": {},
          "execution_count": 141
        }
      ]
    }
  ]
}